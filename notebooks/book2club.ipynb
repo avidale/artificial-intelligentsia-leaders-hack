{
 "cells": [
  {
   "cell_type": "code",
   "execution_count": 1,
   "metadata": {},
   "outputs": [],
   "source": [
    "import pandas as pd"
   ]
  },
  {
   "cell_type": "code",
   "execution_count": 14,
   "metadata": {},
   "outputs": [],
   "source": [
    "df = pd.read_parquet('../../sections.parquet')"
   ]
  },
  {
   "cell_type": "code",
   "execution_count": 15,
   "metadata": {},
   "outputs": [
    {
     "data": {
      "text/html": [
       "<div>\n",
       "<style scoped>\n",
       "    .dataframe tbody tr th:only-of-type {\n",
       "        vertical-align: middle;\n",
       "    }\n",
       "\n",
       "    .dataframe tbody tr th {\n",
       "        vertical-align: top;\n",
       "    }\n",
       "\n",
       "    .dataframe thead th {\n",
       "        text-align: right;\n",
       "    }\n",
       "</style>\n",
       "<table border=\"1\" class=\"dataframe\">\n",
       "  <thead>\n",
       "    <tr style=\"text-align: right;\">\n",
       "      <th></th>\n",
       "      <th>zachislenie_id</th>\n",
       "      <th>zayavlenie_id</th>\n",
       "      <th>user_id</th>\n",
       "      <th>service_id</th>\n",
       "      <th>service_name</th>\n",
       "      <th>service_classificator_id</th>\n",
       "      <th>service_classificator_name</th>\n",
       "      <th>service_classificator_parent_id</th>\n",
       "      <th>service_classificator_parent_name</th>\n",
       "      <th>org_id</th>\n",
       "      <th>org_name_short</th>\n",
       "      <th>org_name_long</th>\n",
       "      <th>org_street</th>\n",
       "      <th>org_metro</th>\n",
       "      <th>nearest_metro</th>\n",
       "      <th>text</th>\n",
       "    </tr>\n",
       "  </thead>\n",
       "  <tbody>\n",
       "    <tr>\n",
       "      <th>366600</th>\n",
       "      <td>26579177</td>\n",
       "      <td>30459301</td>\n",
       "      <td>1106858</td>\n",
       "      <td>220818</td>\n",
       "      <td>Фольклорно-эстрадная мастерская  \"Суббота\"</td>\n",
       "      <td>3003226</td>\n",
       "      <td>Народное пение</td>\n",
       "      <td>3003221</td>\n",
       "      <td>Пение</td>\n",
       "      <td>10855</td>\n",
       "      <td>ГБУК г. Москвы \"КЦ \"Салют\"</td>\n",
       "      <td>Государственное бюджетное учреждение культуры ...</td>\n",
       "      <td>улица Свободы</td>\n",
       "      <td>Тушинская</td>\n",
       "      <td>[Спартак, Тушинская]</td>\n",
       "      <td>Пение__Народное пение__Фольклорно-эстрадная ма...</td>\n",
       "    </tr>\n",
       "    <tr>\n",
       "      <th>423392</th>\n",
       "      <td>5732783</td>\n",
       "      <td>6750022</td>\n",
       "      <td>538931</td>\n",
       "      <td>257472</td>\n",
       "      <td>Студия \"Шахматы\"</td>\n",
       "      <td>3003396</td>\n",
       "      <td>Шахматы</td>\n",
       "      <td>3003330</td>\n",
       "      <td>Физическая культура и спорт</td>\n",
       "      <td>10885</td>\n",
       "      <td>ГБУК г. Москвы \"ЦК \"Гармония\"</td>\n",
       "      <td>Государственное бюджетное учреждение культуры ...</td>\n",
       "      <td>Дмитровское шоссе</td>\n",
       "      <td>Тимирязевская</td>\n",
       "      <td>[Окружная, Петровско-Разумовская, Тимирязевская]</td>\n",
       "      <td>Физическая культура и спорт__Шахматы__Студия \"...</td>\n",
       "    </tr>\n",
       "    <tr>\n",
       "      <th>492326</th>\n",
       "      <td>20255868</td>\n",
       "      <td>4137985</td>\n",
       "      <td>801539</td>\n",
       "      <td>162604</td>\n",
       "      <td>09 Студия \"Мир без границ\", 6 группа Кожуханце...</td>\n",
       "      <td>3003463</td>\n",
       "      <td>Английский язык</td>\n",
       "      <td>3003124</td>\n",
       "      <td>Английский язык</td>\n",
       "      <td>10841</td>\n",
       "      <td>ГБУК г.Москвы \"ДК \"Гармония\"</td>\n",
       "      <td>Государственное бюджетное учреждение культуры ...</td>\n",
       "      <td>Кировоградская улица</td>\n",
       "      <td>Пражская</td>\n",
       "      <td>[Пражская, Южная]</td>\n",
       "      <td>Английский язык__Английский язык__09 Студия \"М...</td>\n",
       "    </tr>\n",
       "    <tr>\n",
       "      <th>372234</th>\n",
       "      <td>1415625</td>\n",
       "      <td>1497417</td>\n",
       "      <td>786376</td>\n",
       "      <td>115568</td>\n",
       "      <td>Развивающая программа для детей \"Окружающий мир\"</td>\n",
       "      <td>3003269</td>\n",
       "      <td>Дошкольное развитие</td>\n",
       "      <td>3003268</td>\n",
       "      <td>Социальная педагогика</td>\n",
       "      <td>10911</td>\n",
       "      <td>ГБУК г. Москвы \"ТКС \"Кунцево\"</td>\n",
       "      <td>Государственное бюджетное учреждение культуры ...</td>\n",
       "      <td>улица Крылатские Холмы</td>\n",
       "      <td>Крылатское</td>\n",
       "      <td>[Крылатское]</td>\n",
       "      <td>Социальная педагогика__Дошкольное развитие__Ра...</td>\n",
       "    </tr>\n",
       "    <tr>\n",
       "      <th>184896</th>\n",
       "      <td>6434262</td>\n",
       "      <td>7314569</td>\n",
       "      <td>1409759</td>\n",
       "      <td>144923</td>\n",
       "      <td>Фортепиано, лет: 8, Предпрофессиональная, жен....</td>\n",
       "      <td>3220801</td>\n",
       "      <td>Фортепиано</td>\n",
       "      <td>3220800</td>\n",
       "      <td>Фортепиано</td>\n",
       "      <td>114</td>\n",
       "      <td>ГБУДО г. Москвы «Детская музыкальная школа име...</td>\n",
       "      <td>Государственное бюджетное учреждение дополните...</td>\n",
       "      <td>улица Лобачевского</td>\n",
       "      <td>Проспект Вернадского</td>\n",
       "      <td>[Воробьёвы горы, Ломоносовский проспект, Мичур...</td>\n",
       "      <td>Фортепиано__Фортепиано__Фортепиано, лет: 8, Пр...</td>\n",
       "    </tr>\n",
       "  </tbody>\n",
       "</table>\n",
       "</div>"
      ],
      "text/plain": [
       "        zachislenie_id  zayavlenie_id  user_id  service_id  \\\n",
       "366600        26579177       30459301  1106858      220818   \n",
       "423392         5732783        6750022   538931      257472   \n",
       "492326        20255868        4137985   801539      162604   \n",
       "372234         1415625        1497417   786376      115568   \n",
       "184896         6434262        7314569  1409759      144923   \n",
       "\n",
       "                                             service_name  \\\n",
       "366600         Фольклорно-эстрадная мастерская  \"Суббота\"   \n",
       "423392                                   Студия \"Шахматы\"   \n",
       "492326  09 Студия \"Мир без границ\", 6 группа Кожуханце...   \n",
       "372234   Развивающая программа для детей \"Окружающий мир\"   \n",
       "184896  Фортепиано, лет: 8, Предпрофессиональная, жен....   \n",
       "\n",
       "        service_classificator_id service_classificator_name  \\\n",
       "366600                   3003226             Народное пение   \n",
       "423392                   3003396                    Шахматы   \n",
       "492326                   3003463            Английский язык   \n",
       "372234                   3003269        Дошкольное развитие   \n",
       "184896                   3220801                 Фортепиано   \n",
       "\n",
       "        service_classificator_parent_id service_classificator_parent_name  \\\n",
       "366600                          3003221                             Пение   \n",
       "423392                          3003330       Физическая культура и спорт   \n",
       "492326                          3003124                   Английский язык   \n",
       "372234                          3003268             Социальная педагогика   \n",
       "184896                          3220800                        Фортепиано   \n",
       "\n",
       "        org_id                                     org_name_short  \\\n",
       "366600   10855                         ГБУК г. Москвы \"КЦ \"Салют\"   \n",
       "423392   10885                      ГБУК г. Москвы \"ЦК \"Гармония\"   \n",
       "492326   10841                       ГБУК г.Москвы \"ДК \"Гармония\"   \n",
       "372234   10911                      ГБУК г. Москвы \"ТКС \"Кунцево\"   \n",
       "184896     114  ГБУДО г. Москвы «Детская музыкальная школа име...   \n",
       "\n",
       "                                            org_name_long  \\\n",
       "366600  Государственное бюджетное учреждение культуры ...   \n",
       "423392  Государственное бюджетное учреждение культуры ...   \n",
       "492326  Государственное бюджетное учреждение культуры ...   \n",
       "372234  Государственное бюджетное учреждение культуры ...   \n",
       "184896  Государственное бюджетное учреждение дополните...   \n",
       "\n",
       "                    org_street             org_metro  \\\n",
       "366600           улица Свободы             Тушинская   \n",
       "423392       Дмитровское шоссе         Тимирязевская   \n",
       "492326    Кировоградская улица              Пражская   \n",
       "372234  улица Крылатские Холмы            Крылатское   \n",
       "184896      улица Лобачевского  Проспект Вернадского   \n",
       "\n",
       "                                            nearest_metro  \\\n",
       "366600                               [Спартак, Тушинская]   \n",
       "423392   [Окружная, Петровско-Разумовская, Тимирязевская]   \n",
       "492326                                  [Пражская, Южная]   \n",
       "372234                                       [Крылатское]   \n",
       "184896  [Воробьёвы горы, Ломоносовский проспект, Мичур...   \n",
       "\n",
       "                                                     text  \n",
       "366600  Пение__Народное пение__Фольклорно-эстрадная ма...  \n",
       "423392  Физическая культура и спорт__Шахматы__Студия \"...  \n",
       "492326  Английский язык__Английский язык__09 Студия \"М...  \n",
       "372234  Социальная педагогика__Дошкольное развитие__Ра...  \n",
       "184896  Фортепиано__Фортепиано__Фортепиано, лет: 8, Пр...  "
      ]
     },
     "execution_count": 15,
     "metadata": {},
     "output_type": "execute_result"
    }
   ],
   "source": [
    "df.sample(5)"
   ]
  },
  {
   "cell_type": "code",
   "execution_count": 16,
   "metadata": {},
   "outputs": [
    {
     "name": "stdout",
     "output_type": "stream",
     "text": [
      "(11710, 12)\n"
     ]
    }
   ],
   "source": [
    "df2 = df.drop_duplicates(\n",
    "    ['service_name', 'service_classificator_name', 'service_classificator_parent_name']\n",
    ").drop(['zachislenie_id', 'zayavlenie_id', 'user_id'], axis=1).set_index('service_id')\n",
    "print(df2.shape)"
   ]
  },
  {
   "cell_type": "code",
   "execution_count": 17,
   "metadata": {},
   "outputs": [
    {
     "data": {
      "text/html": [
       "<div>\n",
       "<style scoped>\n",
       "    .dataframe tbody tr th:only-of-type {\n",
       "        vertical-align: middle;\n",
       "    }\n",
       "\n",
       "    .dataframe tbody tr th {\n",
       "        vertical-align: top;\n",
       "    }\n",
       "\n",
       "    .dataframe thead th {\n",
       "        text-align: right;\n",
       "    }\n",
       "</style>\n",
       "<table border=\"1\" class=\"dataframe\">\n",
       "  <thead>\n",
       "    <tr style=\"text-align: right;\">\n",
       "      <th></th>\n",
       "      <th>service_name</th>\n",
       "      <th>service_classificator_id</th>\n",
       "      <th>service_classificator_name</th>\n",
       "      <th>service_classificator_parent_id</th>\n",
       "      <th>service_classificator_parent_name</th>\n",
       "      <th>org_id</th>\n",
       "      <th>org_name_short</th>\n",
       "      <th>org_name_long</th>\n",
       "      <th>org_street</th>\n",
       "      <th>org_metro</th>\n",
       "      <th>nearest_metro</th>\n",
       "      <th>text</th>\n",
       "    </tr>\n",
       "    <tr>\n",
       "      <th>service_id</th>\n",
       "      <th></th>\n",
       "      <th></th>\n",
       "      <th></th>\n",
       "      <th></th>\n",
       "      <th></th>\n",
       "      <th></th>\n",
       "      <th></th>\n",
       "      <th></th>\n",
       "      <th></th>\n",
       "      <th></th>\n",
       "      <th></th>\n",
       "      <th></th>\n",
       "    </tr>\n",
       "  </thead>\n",
       "  <tbody>\n",
       "    <tr>\n",
       "      <th>227436</th>\n",
       "      <td>студия \"Хор 50+\"\"</td>\n",
       "      <td>3003230</td>\n",
       "      <td>Хоровое пение</td>\n",
       "      <td>3003221</td>\n",
       "      <td>Пение</td>\n",
       "      <td>10885</td>\n",
       "      <td>ГБУК г. Москвы \"ЦК \"Гармония\"</td>\n",
       "      <td>Государственное бюджетное учреждение культуры ...</td>\n",
       "      <td>Дмитровское шоссе</td>\n",
       "      <td>Тимирязевская</td>\n",
       "      <td>[Окружная, Петровско-Разумовская, Тимирязевская]</td>\n",
       "      <td>Пение__Хоровое пение__студия \"Хор 50+\"\"</td>\n",
       "    </tr>\n",
       "    <tr>\n",
       "      <th>703205</th>\n",
       "      <td>Премьера</td>\n",
       "      <td>3003474</td>\n",
       "      <td>Музыкальные коллективы</td>\n",
       "      <td>3003199</td>\n",
       "      <td>Музыкальные коллективы</td>\n",
       "      <td>10894</td>\n",
       "      <td>ГБУК г.Москвы \"ДК \"Юность\"</td>\n",
       "      <td>Государственное бюджетное учреждение культуры ...</td>\n",
       "      <td>Шушенская улица</td>\n",
       "      <td>Бабушкинская</td>\n",
       "      <td>[Бабушкинская]</td>\n",
       "      <td>Музыкальные коллективы__Музыкальные коллективы...</td>\n",
       "    </tr>\n",
       "    <tr>\n",
       "      <th>123045</th>\n",
       "      <td>Кружок \"Изостудия \"Этюд\"</td>\n",
       "      <td>3003089</td>\n",
       "      <td>Рисунок</td>\n",
       "      <td>3003073</td>\n",
       "      <td>Изобразительное искусство</td>\n",
       "      <td>10838</td>\n",
       "      <td>ГБУК г. Москвы \"ДК \"Аструм\"</td>\n",
       "      <td>Государственное бюджетное учреждение культуры ...</td>\n",
       "      <td>площадь Победы</td>\n",
       "      <td>Кутузовская</td>\n",
       "      <td>[Дорогомиловская, Киевская, Кутузовская, Минск...</td>\n",
       "      <td>Изобразительное искусство__Рисунок__Кружок \"Из...</td>\n",
       "    </tr>\n",
       "    <tr>\n",
       "      <th>120423</th>\n",
       "      <td>Керамическая мастерская «Лазурь» 4 занятия с м...</td>\n",
       "      <td>3003085</td>\n",
       "      <td>Керамика</td>\n",
       "      <td>3003073</td>\n",
       "      <td>Изобразительное искусство</td>\n",
       "      <td>10883</td>\n",
       "      <td>ГБУК г. Москвы \"КЦ \"Москворечье\"</td>\n",
       "      <td>Государственное бюджетное учреждение культуры ...</td>\n",
       "      <td>Каширское шоссе</td>\n",
       "      <td>Кантемировская</td>\n",
       "      <td>[Кантемировская, Царицыно]</td>\n",
       "      <td>Изобразительное искусство__Керамика__Керамичес...</td>\n",
       "    </tr>\n",
       "    <tr>\n",
       "      <th>218876</th>\n",
       "      <td>Баян (комплексная срок обучения 7 лет)</td>\n",
       "      <td>3220502</td>\n",
       "      <td>Баян</td>\n",
       "      <td>3220500</td>\n",
       "      <td>Народные инструменты</td>\n",
       "      <td>100</td>\n",
       "      <td>ГБУДО г. Москвы \"ДШИ им. В.В. Крайнева\"</td>\n",
       "      <td>Государственное бюджетное учреждение дополните...</td>\n",
       "      <td>бульвар Адмирала Ушакова</td>\n",
       "      <td>Улица Скобелевская</td>\n",
       "      <td>[Бульвар адмирала Ушакова, Бунинская аллея, Ул...</td>\n",
       "      <td>Народные инструменты__Баян__Баян (комплексная ...</td>\n",
       "    </tr>\n",
       "  </tbody>\n",
       "</table>\n",
       "</div>"
      ],
      "text/plain": [
       "                                                 service_name  \\\n",
       "service_id                                                      \n",
       "227436                                      студия \"Хор 50+\"\"   \n",
       "703205                                               Премьера   \n",
       "123045                               Кружок \"Изостудия \"Этюд\"   \n",
       "120423      Керамическая мастерская «Лазурь» 4 занятия с м...   \n",
       "218876                 Баян (комплексная срок обучения 7 лет)   \n",
       "\n",
       "            service_classificator_id service_classificator_name  \\\n",
       "service_id                                                        \n",
       "227436                       3003230              Хоровое пение   \n",
       "703205                       3003474     Музыкальные коллективы   \n",
       "123045                       3003089                    Рисунок   \n",
       "120423                       3003085                   Керамика   \n",
       "218876                       3220502                       Баян   \n",
       "\n",
       "            service_classificator_parent_id service_classificator_parent_name  \\\n",
       "service_id                                                                      \n",
       "227436                              3003221                             Пение   \n",
       "703205                              3003199            Музыкальные коллективы   \n",
       "123045                              3003073         Изобразительное искусство   \n",
       "120423                              3003073         Изобразительное искусство   \n",
       "218876                              3220500              Народные инструменты   \n",
       "\n",
       "            org_id                           org_name_short  \\\n",
       "service_id                                                    \n",
       "227436       10885            ГБУК г. Москвы \"ЦК \"Гармония\"   \n",
       "703205       10894               ГБУК г.Москвы \"ДК \"Юность\"   \n",
       "123045       10838              ГБУК г. Москвы \"ДК \"Аструм\"   \n",
       "120423       10883         ГБУК г. Москвы \"КЦ \"Москворечье\"   \n",
       "218876         100  ГБУДО г. Москвы \"ДШИ им. В.В. Крайнева\"   \n",
       "\n",
       "                                                org_name_long  \\\n",
       "service_id                                                      \n",
       "227436      Государственное бюджетное учреждение культуры ...   \n",
       "703205      Государственное бюджетное учреждение культуры ...   \n",
       "123045      Государственное бюджетное учреждение культуры ...   \n",
       "120423      Государственное бюджетное учреждение культуры ...   \n",
       "218876      Государственное бюджетное учреждение дополните...   \n",
       "\n",
       "                          org_street           org_metro  \\\n",
       "service_id                                                 \n",
       "227436             Дмитровское шоссе       Тимирязевская   \n",
       "703205               Шушенская улица        Бабушкинская   \n",
       "123045                площадь Победы         Кутузовская   \n",
       "120423               Каширское шоссе      Кантемировская   \n",
       "218876      бульвар Адмирала Ушакова  Улица Скобелевская   \n",
       "\n",
       "                                                nearest_metro  \\\n",
       "service_id                                                      \n",
       "227436       [Окружная, Петровско-Разумовская, Тимирязевская]   \n",
       "703205                                         [Бабушкинская]   \n",
       "123045      [Дорогомиловская, Киевская, Кутузовская, Минск...   \n",
       "120423                             [Кантемировская, Царицыно]   \n",
       "218876      [Бульвар адмирала Ушакова, Бунинская аллея, Ул...   \n",
       "\n",
       "                                                         text  \n",
       "service_id                                                     \n",
       "227436                Пение__Хоровое пение__студия \"Хор 50+\"\"  \n",
       "703205      Музыкальные коллективы__Музыкальные коллективы...  \n",
       "123045      Изобразительное искусство__Рисунок__Кружок \"Из...  \n",
       "120423      Изобразительное искусство__Керамика__Керамичес...  \n",
       "218876      Народные инструменты__Баян__Баян (комплексная ...  "
      ]
     },
     "execution_count": 17,
     "metadata": {},
     "output_type": "execute_result"
    }
   ],
   "source": [
    "df2.sample(5)"
   ]
  },
  {
   "cell_type": "code",
   "execution_count": 18,
   "metadata": {},
   "outputs": [
    {
     "data": {
      "text/plain": [
       "164"
      ]
     },
     "execution_count": 18,
     "metadata": {},
     "output_type": "execute_result"
    }
   ],
   "source": [
    "df2.org_street.nunique()"
   ]
  },
  {
   "cell_type": "code",
   "execution_count": 19,
   "metadata": {},
   "outputs": [
    {
     "data": {
      "text/plain": [
       "192"
      ]
     },
     "execution_count": 19,
     "metadata": {},
     "output_type": "execute_result"
    }
   ],
   "source": [
    "df2.org_name_short.nunique()"
   ]
  },
  {
   "cell_type": "code",
   "execution_count": 23,
   "metadata": {},
   "outputs": [
    {
     "data": {
      "text/plain": [
       "service_id\n",
       "129781               Метро Алма-Атинская, Братеевская улица\n",
       "120836                  Метро Алтуфьево, 3-я Северная линия\n",
       "568529             Метро Алма-Атинская, 2-й квартал Капотня\n",
       "232700                    Метро Речной вокзал, улица Юности\n",
       "316530    Метро Улица Скобелевская, бульвар Адмирала Уша...\n",
       "988158                Метро Братиславская, Люблинская улица\n",
       "316277        Метро Краснопресненская, улица Трёхгорный Вал\n",
       "226465           Метро Пятницкое шоссе, Центральная площадь\n",
       "208570                   Метро Новокосино, Городецкая улица\n",
       "117993                    Метро Алтуфьево, улица Корнейчука\n",
       "Name: address, dtype: object"
      ]
     },
     "execution_count": 23,
     "metadata": {},
     "output_type": "execute_result"
    }
   ],
   "source": [
    "def make_address(row):\n",
    "    return 'Метро {}, {}'.format(row.org_metro, row.org_street)\n",
    "df2['address'] = df2.apply(make_address, axis=1)\n",
    "df2['address'].sample(10)"
   ]
  },
  {
   "cell_type": "code",
   "execution_count": 24,
   "metadata": {},
   "outputs": [
    {
     "data": {
      "text/plain": [
       "service_id\n",
       "223131               Программа А: Медицина (Профориентация)\n",
       "194905    Труба, срок обучения 8 лет, Предпрофессиональн...\n",
       "163730    Студия спортивного бального танца \"Академия\" (...\n",
       "306432    Духовые и ударные инструменты. Срок обучения 8...\n",
       "524642    Клуб любителей шейпинга \"Камелия\" (социальная ...\n",
       "369471    Театральная студия «Премьера» (Театральное тво...\n",
       "217641    флейта,7(8) лет, Комплексная образовательная п...\n",
       "267542                      Говорушки (Дошкольное развитие)\n",
       "117890    Музыкальный коллектив для детей и родителей \"Ч...\n",
       "316497    Эстрадно-джазовый оркестр. Срок обучения 8 лет...\n",
       "Name: title, dtype: object"
      ]
     },
     "execution_count": 24,
     "metadata": {},
     "output_type": "execute_result"
    }
   ],
   "source": [
    "def make_title(row):\n",
    "    c1 = row.service_name\n",
    "    c2 = row.service_classificator_name\n",
    "    if c1 and c2 and c1 != c2 and c2 not in c1:\n",
    "        return '{} ({})'.format(c1, c2)\n",
    "    if c1:\n",
    "        return c1\n",
    "    if c2:\n",
    "        return c2\n",
    "    return row.text\n",
    "df2['title'] = df2.apply(make_title, axis=1)\n",
    "df2['title'].sample(10)"
   ]
  },
  {
   "cell_type": "code",
   "execution_count": 25,
   "metadata": {},
   "outputs": [
    {
     "data": {
      "text/plain": [
       "service_id\n",
       "153379    Ударная установка (Инструменты эстрадного орке...\n",
       "148048    бас-гитара (Инструменты эстрадного оркестра) \\...\n",
       "528999    Студия иностранных языков \"Лингва\" кружок \"CHE...\n",
       "130331     \"Графика и живопись\" (Изобразительное искусст...\n",
       "230834    Аккордеон, 4 часа в неделю \\nМГОДШИ «Сокольник...\n",
       "227270    Мастерская изобразительного искусства \"Вдохнов...\n",
       "315617    Декоративно-прикладное искусство \"Арт-студия\" ...\n",
       "231878    Флейта. Предпрофессиональная  \\nГБУДО г.Москвы...\n",
       "660234    \"Играю, рисую, пою\" (Для детей с РАС и нарушен...\n",
       "114952    Детская хоровая студия \"Дружба\" (Хоровое пение...\n",
       "Name: description, dtype: object"
      ]
     },
     "execution_count": 25,
     "metadata": {},
     "output_type": "execute_result"
    }
   ],
   "source": [
    "def make_desc(row):\n",
    "    return '{} \\n{} \\n{}'.format(row.title, row.org_name_short, row.address)\n",
    "df2['description'] = df2.apply(make_desc, axis=1)\n",
    "df2['description'].sample(10)"
   ]
  },
  {
   "cell_type": "code",
   "execution_count": 26,
   "metadata": {},
   "outputs": [
    {
     "name": "stdout",
     "output_type": "stream",
     "text": [
      "Студия английского языка «АВС 5» (Иностранные языки) \n",
      "ГБУК г. Москвы Клуб \"Родничок\" \n",
      "Метро Аэропорт, улица Юннатов\n"
     ]
    }
   ],
   "source": [
    "print(df2['description'].sample(10).iloc[0])"
   ]
  },
  {
   "cell_type": "code",
   "execution_count": 27,
   "metadata": {},
   "outputs": [],
   "source": [
    "import os\n",
    "import sys\n",
    "p = os.path.abspath('..')\n",
    "if p not in sys.path:\n",
    "    sys.path.append(p)"
   ]
  },
  {
   "cell_type": "code",
   "execution_count": 28,
   "metadata": {},
   "outputs": [],
   "source": [
    "from lib.geocoder import text_to_address, GeoCache"
   ]
  },
  {
   "cell_type": "code",
   "execution_count": 31,
   "metadata": {},
   "outputs": [],
   "source": [
    "geo = GeoCache('5bd5db3d-bab9-4aca-aba2-121a72026785')\n",
    "geo.load('../../msk/addresses.json')"
   ]
  },
  {
   "cell_type": "code",
   "execution_count": 32,
   "metadata": {},
   "outputs": [],
   "source": [
    "from tqdm.auto import tqdm"
   ]
  },
  {
   "cell_type": "code",
   "execution_count": 33,
   "metadata": {},
   "outputs": [],
   "source": [
    "def get_coo(text):\n",
    "    a = geo(text)\n",
    "    return (a.lat, a.lon)"
   ]
  },
  {
   "cell_type": "code",
   "execution_count": 34,
   "metadata": {},
   "outputs": [
    {
     "data": {
      "application/vnd.jupyter.widget-view+json": {
       "model_id": "3cfafc2bfaef43bd960572204628c31c",
       "version_major": 2,
       "version_minor": 0
      },
      "text/plain": [
       "HBox(children=(FloatProgress(value=0.0, max=11710.0), HTML(value='')))"
      ]
     },
     "metadata": {},
     "output_type": "display_data"
    },
    {
     "name": "stdout",
     "output_type": "stream",
     "text": [
      "\n"
     ]
    }
   ],
   "source": [
    "addresses = [geo(a) for a in tqdm(df2.address)]"
   ]
  },
  {
   "cell_type": "code",
   "execution_count": 35,
   "metadata": {},
   "outputs": [],
   "source": [
    "geo.save('addresses.json')"
   ]
  },
  {
   "cell_type": "code",
   "execution_count": 36,
   "metadata": {},
   "outputs": [],
   "source": [
    "df2['full_address'] = addresses"
   ]
  },
  {
   "cell_type": "code",
   "execution_count": 37,
   "metadata": {},
   "outputs": [
    {
     "data": {
      "text/plain": [
       "service_id\n",
       "308463    Address(lat=55.707644, lon=37.749274, text=\"Ро...\n",
       "221445    Address(lat=55.88712, lon=37.700613, text=\"Рос...\n",
       "227269    Address(lat=55.753311, lon=37.656236, text=\"Ро...\n",
       "Name: full_address, dtype: object"
      ]
     },
     "execution_count": 37,
     "metadata": {},
     "output_type": "execute_result"
    }
   ],
   "source": [
    "df2.full_address.sample(3)"
   ]
  },
  {
   "cell_type": "code",
   "execution_count": 38,
   "metadata": {},
   "outputs": [],
   "source": [
    "from lib.cross_recommender import CrossRecommender"
   ]
  },
  {
   "cell_type": "code",
   "execution_count": 39,
   "metadata": {},
   "outputs": [],
   "source": [
    "from lib.events_base import Embedder, EventSearcher, unit_norm"
   ]
  },
  {
   "cell_type": "code",
   "execution_count": 41,
   "metadata": {},
   "outputs": [],
   "source": [
    "embedder = Embedder('../resources/ft_freqprune_100K_20K_pq_100.bin')"
   ]
  },
  {
   "cell_type": "code",
   "execution_count": 42,
   "metadata": {},
   "outputs": [],
   "source": [
    "es = EventSearcher(df=df2, embedder=embedder, title_column='title', desc_column=None)"
   ]
  },
  {
   "cell_type": "code",
   "execution_count": 43,
   "metadata": {},
   "outputs": [
    {
     "data": {
      "application/vnd.jupyter.widget-view+json": {
       "model_id": "3bb78a920b2c44b7a17b4aa2840f9bf2",
       "version_major": 2,
       "version_minor": 0
      },
      "text/plain": [
       "HBox(children=(FloatProgress(value=0.0, max=11710.0), HTML(value='')))"
      ]
     },
     "metadata": {},
     "output_type": "display_data"
    },
    {
     "name": "stdout",
     "output_type": "stream",
     "text": [
      "\n"
     ]
    }
   ],
   "source": [
    "es.prepare_embeddings()"
   ]
  },
  {
   "cell_type": "code",
   "execution_count": 44,
   "metadata": {},
   "outputs": [],
   "source": [
    "es.to_pickle('../resources/clubs_rec.pkl')"
   ]
  },
  {
   "cell_type": "code",
   "execution_count": 45,
   "metadata": {},
   "outputs": [
    {
     "data": {
      "text/html": [
       "<div>\n",
       "<style scoped>\n",
       "    .dataframe tbody tr th:only-of-type {\n",
       "        vertical-align: middle;\n",
       "    }\n",
       "\n",
       "    .dataframe tbody tr th {\n",
       "        vertical-align: top;\n",
       "    }\n",
       "\n",
       "    .dataframe thead th {\n",
       "        text-align: right;\n",
       "    }\n",
       "</style>\n",
       "<table border=\"1\" class=\"dataframe\">\n",
       "  <thead>\n",
       "    <tr style=\"text-align: right;\">\n",
       "      <th></th>\n",
       "      <th>service_name</th>\n",
       "      <th>service_classificator_id</th>\n",
       "      <th>service_classificator_name</th>\n",
       "      <th>service_classificator_parent_id</th>\n",
       "      <th>service_classificator_parent_name</th>\n",
       "      <th>org_id</th>\n",
       "      <th>org_name_short</th>\n",
       "      <th>org_name_long</th>\n",
       "      <th>org_street</th>\n",
       "      <th>org_metro</th>\n",
       "      <th>nearest_metro</th>\n",
       "      <th>text</th>\n",
       "      <th>address</th>\n",
       "      <th>title</th>\n",
       "      <th>description</th>\n",
       "      <th>full_address</th>\n",
       "    </tr>\n",
       "    <tr>\n",
       "      <th>service_id</th>\n",
       "      <th></th>\n",
       "      <th></th>\n",
       "      <th></th>\n",
       "      <th></th>\n",
       "      <th></th>\n",
       "      <th></th>\n",
       "      <th></th>\n",
       "      <th></th>\n",
       "      <th></th>\n",
       "      <th></th>\n",
       "      <th></th>\n",
       "      <th></th>\n",
       "      <th></th>\n",
       "      <th></th>\n",
       "      <th></th>\n",
       "      <th></th>\n",
       "    </tr>\n",
       "  </thead>\n",
       "  <tbody>\n",
       "    <tr>\n",
       "      <th>518397</th>\n",
       "      <td>Балалайка, 5-летняя программа обучения</td>\n",
       "      <td>3220503</td>\n",
       "      <td>Балалайка</td>\n",
       "      <td>3220500</td>\n",
       "      <td>Народные инструменты</td>\n",
       "      <td>131</td>\n",
       "      <td>ГБУДО г.Москвы «Детская музыкальная школа имен...</td>\n",
       "      <td>Государственное бюджетное  учреждение дополнит...</td>\n",
       "      <td>улица Мнёвники</td>\n",
       "      <td>Полежаевская</td>\n",
       "      <td>[Полежаевская, Хорошёво, Хорошёвская, ЦСКА]</td>\n",
       "      <td>Народные инструменты__Балалайка__Балалайка, 5-...</td>\n",
       "      <td>Метро Полежаевская, улица Мнёвники</td>\n",
       "      <td>Балалайка, 5-летняя программа обучения</td>\n",
       "      <td>Балалайка, 5-летняя программа обучения \\nГБУДО...</td>\n",
       "      <td>Address(lat=55.772892, lon=37.490416, text=\"Ро...</td>\n",
       "    </tr>\n",
       "    <tr>\n",
       "      <th>231032</th>\n",
       "      <td>Балалайка, Препдпрофессиональная, 8 лет</td>\n",
       "      <td>3220503</td>\n",
       "      <td>Балалайка</td>\n",
       "      <td>3220500</td>\n",
       "      <td>Народные инструменты</td>\n",
       "      <td>114</td>\n",
       "      <td>ГБУДО г. Москвы «Детская музыкальная школа име...</td>\n",
       "      <td>Государственное бюджетное учреждение дополните...</td>\n",
       "      <td>улица Лобачевского</td>\n",
       "      <td>Проспект Вернадского</td>\n",
       "      <td>[Воробьёвы горы, Ломоносовский проспект, Мичур...</td>\n",
       "      <td>Народные инструменты__Балалайка__Балалайка, Пр...</td>\n",
       "      <td>Метро Проспект Вернадского, улица Лобачевского</td>\n",
       "      <td>Балалайка, Препдпрофессиональная, 8 лет</td>\n",
       "      <td>Балалайка, Препдпрофессиональная, 8 лет \\nГБУД...</td>\n",
       "      <td>Address(lat=55.676412, lon=37.484487, text=\"Ро...</td>\n",
       "    </tr>\n",
       "    <tr>\n",
       "      <th>145825</th>\n",
       "      <td>Народные инструменты, лет: 5, Предпрофессионал...</td>\n",
       "      <td>3220507</td>\n",
       "      <td>Народные инструменты</td>\n",
       "      <td>3220500</td>\n",
       "      <td>Народные инструменты</td>\n",
       "      <td>94</td>\n",
       "      <td>ГБУДО г. Москвы «ДМШ им. Э.Г. Гилельса»</td>\n",
       "      <td>Государственное бюджетное учреждение дополните...</td>\n",
       "      <td>Черноморский бульвар</td>\n",
       "      <td>Чертановская</td>\n",
       "      <td>[Чертановская]</td>\n",
       "      <td>Народные инструменты__Народные инструменты__На...</td>\n",
       "      <td>Метро Чертановская, Черноморский бульвар</td>\n",
       "      <td>Народные инструменты, лет: 5, Предпрофессионал...</td>\n",
       "      <td>Народные инструменты, лет: 5, Предпрофессионал...</td>\n",
       "      <td>Address(lat=55.645405, lon=37.608131, text=\"Ро...</td>\n",
       "    </tr>\n",
       "  </tbody>\n",
       "</table>\n",
       "</div>"
      ],
      "text/plain": [
       "                                                 service_name  \\\n",
       "service_id                                                      \n",
       "518397                 Балалайка, 5-летняя программа обучения   \n",
       "231032                Балалайка, Препдпрофессиональная, 8 лет   \n",
       "145825      Народные инструменты, лет: 5, Предпрофессионал...   \n",
       "\n",
       "            service_classificator_id service_classificator_name  \\\n",
       "service_id                                                        \n",
       "518397                       3220503                  Балалайка   \n",
       "231032                       3220503                  Балалайка   \n",
       "145825                       3220507       Народные инструменты   \n",
       "\n",
       "            service_classificator_parent_id service_classificator_parent_name  \\\n",
       "service_id                                                                      \n",
       "518397                              3220500              Народные инструменты   \n",
       "231032                              3220500              Народные инструменты   \n",
       "145825                              3220500              Народные инструменты   \n",
       "\n",
       "            org_id                                     org_name_short  \\\n",
       "service_id                                                              \n",
       "518397         131  ГБУДО г.Москвы «Детская музыкальная школа имен...   \n",
       "231032         114  ГБУДО г. Москвы «Детская музыкальная школа име...   \n",
       "145825          94            ГБУДО г. Москвы «ДМШ им. Э.Г. Гилельса»   \n",
       "\n",
       "                                                org_name_long  \\\n",
       "service_id                                                      \n",
       "518397      Государственное бюджетное  учреждение дополнит...   \n",
       "231032      Государственное бюджетное учреждение дополните...   \n",
       "145825      Государственное бюджетное учреждение дополните...   \n",
       "\n",
       "                      org_street             org_metro  \\\n",
       "service_id                                               \n",
       "518397            улица Мнёвники          Полежаевская   \n",
       "231032        улица Лобачевского  Проспект Вернадского   \n",
       "145825      Черноморский бульвар          Чертановская   \n",
       "\n",
       "                                                nearest_metro  \\\n",
       "service_id                                                      \n",
       "518397            [Полежаевская, Хорошёво, Хорошёвская, ЦСКА]   \n",
       "231032      [Воробьёвы горы, Ломоносовский проспект, Мичур...   \n",
       "145825                                         [Чертановская]   \n",
       "\n",
       "                                                         text  \\\n",
       "service_id                                                      \n",
       "518397      Народные инструменты__Балалайка__Балалайка, 5-...   \n",
       "231032      Народные инструменты__Балалайка__Балалайка, Пр...   \n",
       "145825      Народные инструменты__Народные инструменты__На...   \n",
       "\n",
       "                                                   address  \\\n",
       "service_id                                                   \n",
       "518397                  Метро Полежаевская, улица Мнёвники   \n",
       "231032      Метро Проспект Вернадского, улица Лобачевского   \n",
       "145825            Метро Чертановская, Черноморский бульвар   \n",
       "\n",
       "                                                        title  \\\n",
       "service_id                                                      \n",
       "518397                 Балалайка, 5-летняя программа обучения   \n",
       "231032                Балалайка, Препдпрофессиональная, 8 лет   \n",
       "145825      Народные инструменты, лет: 5, Предпрофессионал...   \n",
       "\n",
       "                                                  description  \\\n",
       "service_id                                                      \n",
       "518397      Балалайка, 5-летняя программа обучения \\nГБУДО...   \n",
       "231032      Балалайка, Препдпрофессиональная, 8 лет \\nГБУД...   \n",
       "145825      Народные инструменты, лет: 5, Предпрофессионал...   \n",
       "\n",
       "                                                 full_address  \n",
       "service_id                                                     \n",
       "518397      Address(lat=55.772892, lon=37.490416, text=\"Ро...  \n",
       "231032      Address(lat=55.676412, lon=37.484487, text=\"Ро...  \n",
       "145825      Address(lat=55.645405, lon=37.608131, text=\"Ро...  "
      ]
     },
     "execution_count": 45,
     "metadata": {},
     "output_type": "execute_result"
    }
   ],
   "source": [
    "es.df.sample(3)"
   ]
  },
  {
   "cell_type": "code",
   "execution_count": 79,
   "metadata": {},
   "outputs": [],
   "source": [
    "from importlib import reload\n",
    "import lib\n",
    "reload(lib)\n",
    "from lib import geocoder\n",
    "import lib.events_base\n",
    "reload(lib.events_base)\n",
    "import lib.cross_recommender\n",
    "reload(lib.cross_recommender)\n",
    "from lib.cross_recommender import load_clubs_searcher, User, CrossRecommender"
   ]
  },
  {
   "cell_type": "code",
   "execution_count": 80,
   "metadata": {},
   "outputs": [],
   "source": [
    "import numpy as np"
   ]
  },
  {
   "cell_type": "code",
   "execution_count": 81,
   "metadata": {},
   "outputs": [],
   "source": [
    "cs = load_clubs_searcher(embedder, '../resources/clubs_rec.pkl')"
   ]
  },
  {
   "cell_type": "code",
   "execution_count": 82,
   "metadata": {},
   "outputs": [],
   "source": [
    "clubs = cs.df.copy()\n",
    "clubs['score'] = 1"
   ]
  },
  {
   "cell_type": "code",
   "execution_count": 83,
   "metadata": {},
   "outputs": [
    {
     "data": {
      "text/plain": [
       "Address(lat=55.715601, lon=37.81804, text=\"Россия, Москва, Таганско-Краснопресненская линия, метро Выхино\")"
      ]
     },
     "execution_count": 83,
     "metadata": {},
     "output_type": "execute_result"
    }
   ],
   "source": [
    "a=geo(\"выхино\")\n",
    "a"
   ]
  },
  {
   "cell_type": "code",
   "execution_count": 84,
   "metadata": {},
   "outputs": [],
   "source": [
    "u = User(location={'lat': a.lat, 'lng': a.lon}, uid=0)"
   ]
  },
  {
   "cell_type": "code",
   "execution_count": 91,
   "metadata": {},
   "outputs": [],
   "source": [
    "u.book_vectors.append(embedder('история архитектуры'))"
   ]
  },
  {
   "cell_type": "code",
   "execution_count": 92,
   "metadata": {},
   "outputs": [],
   "source": [
    "\n",
    "\n",
    "def recommend_clubs(clubs_searcher, user: User):\n",
    "    if len(user.book_vectors) == 0:\n",
    "        clubs = clubs_searcher.df.copy()\n",
    "        clubs['score'] = 1\n",
    "    else:\n",
    "        vec = np.mean(user.book_vectors, axis=0)\n",
    "        found = clubs_searcher.match_vector(vec, n=30)\n",
    "        clubs = clubs_searcher.df.iloc[found.idx.values].copy()\n",
    "        clubs['score'] = 1 - found.d\n",
    "    if user.location and user.location.get('lat'):\n",
    "        addr = geocoder.Address(lat=user.location['lat'], lon=user.location['lng'])\n",
    "        clubs['distance'] = clubs.full_address.apply(lambda a: geocoder.geo_distance(addr, a))\n",
    "        clubs['score'] = clubs.score * np.exp(- clubs['distance'] / 20)\n",
    "    clubs.sort_values('score', inplace=True, ascending=False)\n",
    "    clubs = clubs.head(10)\n",
    "    return [\n",
    "        {\n",
    "            'name': e['title'],\n",
    "            'description': e['description'],\n",
    "            'type': 'club',\n",
    "        }\n",
    "        for i, e in clubs.iterrows()\n",
    "    ]"
   ]
  },
  {
   "cell_type": "code",
   "execution_count": 93,
   "metadata": {},
   "outputs": [
    {
     "data": {
      "text/plain": [
       "[{'name': 'Архитектура',\n",
       "  'description': 'Архитектура \\nГБУДО г. Москвы \"ДШИ \"СТАРТ\" \\nМетро Баррикадная, Зоологическая улица',\n",
       "  'type': 'club'},\n",
       " {'name': 'АрхиКот (Архитектура)',\n",
       "  'description': 'АрхиКот (Архитектура) \\nГБУК г. Москвы \"КЦ \"Ивановский\" \\nМетро Новогиреево, Свободный проспект',\n",
       "  'type': 'club'},\n",
       " {'name': 'Архитектурная мастерская (Архитектура)',\n",
       "  'description': 'Архитектурная мастерская (Архитектура) \\nГБУК г. Москвы \"КЦ \"Ивановский\" \\nМетро Новогиреево, Свободный проспект',\n",
       "  'type': 'club'},\n",
       " {'name': 'Мастерская \"Архитектура\" (Основы архитектуры)',\n",
       "  'description': 'Мастерская \"Архитектура\" (Основы архитектуры) \\nГБУК г. Москвы \"КЦ \"Вдохновение\" \\nМетро Ясенево, Литовский бульвар',\n",
       "  'type': 'club'},\n",
       " {'name': '*Архитектурная студия «Простор» (Архитектура)',\n",
       "  'description': '*Архитектурная студия «Простор» (Архитектура) \\nГБУК г. Москвы \"ДК \"Берендей\" \\nМетро Октябрьское поле, улица Народного Ополчения',\n",
       "  'type': 'club'},\n",
       " {'name': 'Программа А: Архитектура',\n",
       "  'description': 'Программа А: Архитектура \\nГБУК Г. МОСКВЫ ЦТИ \"ПЕРСПЕКТИВА\" \\nМетро Курская (Арбатско-Покровская), улица Макаренко',\n",
       "  'type': 'club'},\n",
       " {'name': 'уровень I (Архитектура)',\n",
       "  'description': 'уровень I (Архитектура) \\nГБУДО г. Москвы \"ДШИ \"СТАРТ\" \\nМетро Баррикадная, Зоологическая улица',\n",
       "  'type': 'club'},\n",
       " {'name': 'Студия \"Маленький Зодчий\" (Основы архитектуры)',\n",
       "  'description': 'Студия \"Маленький Зодчий\" (Основы архитектуры) \\nГБУК г. Москвы «ТКС «Фили-Давыдково» \\nМетро Филевский парк, улица Олеко Дундича',\n",
       "  'type': 'club'},\n",
       " {'name': 'Общеразвивающая программа (Архитектура)',\n",
       "  'description': 'Общеразвивающая программа (Архитектура) \\nГБУДО г. Москвы \"ДШИ \"СТАРТ\" \\nМетро Баррикадная, Зоологическая улица',\n",
       "  'type': 'club'},\n",
       " {'name': 'уровень II (Архитектура)',\n",
       "  'description': 'уровень II (Архитектура) \\nГБУДО г. Москвы \"ДШИ \"СТАРТ\" \\nМетро Баррикадная, Зоологическая улица',\n",
       "  'type': 'club'}]"
      ]
     },
     "execution_count": 93,
     "metadata": {},
     "output_type": "execute_result"
    }
   ],
   "source": [
    "recommend_clubs(cs, u)"
   ]
  },
  {
   "cell_type": "code",
   "execution_count": null,
   "metadata": {},
   "outputs": [],
   "source": []
  },
  {
   "cell_type": "code",
   "execution_count": null,
   "metadata": {},
   "outputs": [],
   "source": []
  }
 ],
 "metadata": {
  "kernelspec": {
   "display_name": "Python 3",
   "language": "python",
   "name": "python3"
  },
  "language_info": {
   "codemirror_mode": {
    "name": "ipython",
    "version": 3
   },
   "file_extension": ".py",
   "mimetype": "text/x-python",
   "name": "python",
   "nbconvert_exporter": "python",
   "pygments_lexer": "ipython3",
   "version": "3.7.6"
  }
 },
 "nbformat": 4,
 "nbformat_minor": 4
}
